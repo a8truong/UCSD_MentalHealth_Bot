{
 "cells": [
  {
   "cell_type": "code",
   "execution_count": 1,
   "metadata": {},
   "outputs": [],
   "source": [
    "import pandas as pd\n",
    "import numpy as np\n",
    "import matplotlib.pyplot as plt"
   ]
  },
  {
   "cell_type": "code",
   "execution_count": 7,
   "metadata": {},
   "outputs": [
    {
     "data": {
      "text/plain": [
       "'[\"I\\'m sorry to hear that you\\'re feeling down. It\\'s important to take care of your mental well-being. Have you considered attending some of the workshops or groups offered by CAPS at UCSD? They can provide support and strategies to help you navigate your feelings. You can check out the Tritons RISE Workshops or consider signing up for a Let\\'s Talk session for some informal support. Remember, you can also access free tools like Headspace for mindfulness and relaxation. If you\\'re interested in joining a psychotherapy group or need professional counseling, please contact the CAPS Central Office at (858) 534-3755 to arrange an appointment. You\\'re not alone, and there are resources available to help you through this!\", \\'I\\\\\\'m sorry to hear that you\\\\\\'re feeling down lately. It\\\\\\'s important to take care of your mental health. Have you considered attending one of CAPS\\\\\\' Tritons RISE Workshops? These workshops are designed to help promote your peak performance in various areas of your life – emotional, physical, and social. You can find more information on their Tritons RISE Together page. Additionally, you can also sign up for \"Let\\\\\\'s Talk,\" a service where you can chat with a mental health professional to gain support and ask questions about your well-being or accessing resources. Remember, you can always reach out to CAPS Central Office at (858) 534-3755 for further assistance. Take care of yourself.\\', \\'I\\\\\\'m sorry to hear that you\\\\\\'re feeling down lately. It\\\\\\'s important to prioritize your mental well-being. One of the resources you can consider is the \"Let\\\\\\'s Talk\" service offered by UC San Diego CAPS. It provides informal support with mental health and campus resources. While it\\\\\\'s not formal mental health treatment, Let\\\\\\'s Talk sessions are designed to provide practical strategies and support for general wellness-related issues. Remember, students are limited to 2 sessions per quarter. You can access the Winter 2025 Schedule to sign up for a session.\\\\n\\\\nAdditionally, you can explore the iFLOURISH program, which offers self-guided technology programs for mental health. You can take an anonymous online behavioral health screening for various areas and access tools like Headspace for meditation and relaxation recordings to help improve your well-being.\\\\n\\\\nRemember, taking care of your mental health is important, and there are resources available to support you. If you feel like you need professional counseling or mental health treatment, you can contact the CAPS Central Office at (858) 534-3755 to arrange an appointment. Take care of yourself!\\', \\'I\\\\\\'m sorry to hear that you\\\\\\'re feeling down. It\\\\\\'s important to take care of your mental health. One resource you can consider is attending the \"Let\\\\\\'s Talk\" sessions offered by UCSD CAPS. These sessions are designed to provide informal support, practical strategies, and information on wellness-related issues. You can sign up for these sessions in the Winter 2025 Schedule (pdf) provided on the CAPS website.\\\\n\\\\nAdditionally, you can also explore the iFLOURISH program, which offers self-guided technology programs for mental health. This includes access to resources like Headspace for Tritons, which is a mindfulness app that can help reduce stress and improve focus. You can find more information and sign up using your UCSD email address on the CAPS website.\\\\n\\\\nRemember, if you ever feel that you need professional counseling or mental health treatment, you can reach out to the CAPS Central Office at (858) 534-3755 to arrange an appointment. Your well-being is important, and there are resources available to support you. Take care.\\', \\'I\\\\\\'m sorry to hear that you\\\\\\'re feeling down. It\\\\\\'s important to prioritize your mental well-being. You might find it helpful to attend Tritons RISE Workshops offered by CAPS to promote emotional, physical, and social well-being. Additionally, you can sign up for \"Let’s Talk\" sessions, where you can chat with a mental health professional and get support regarding general wellness-related issues. Remember, you are not alone, and there are resources available to help you feel better. Take care of yourself.\\']'"
      ]
     },
     "execution_count": 7,
     "metadata": {},
     "output_type": "execute_result"
    }
   ],
   "source": [
    "df = pd.read_csv('output_responses.csv')\n",
    "df.iloc[:, -1][0]"
   ]
  },
  {
   "cell_type": "code",
   "execution_count": null,
   "metadata": {},
   "outputs": [],
   "source": []
  }
 ],
 "metadata": {
  "kernelspec": {
   "display_name": "dsc80",
   "language": "python",
   "name": "python3"
  },
  "language_info": {
   "codemirror_mode": {
    "name": "ipython",
    "version": 3
   },
   "file_extension": ".py",
   "mimetype": "text/x-python",
   "name": "python",
   "nbconvert_exporter": "python",
   "pygments_lexer": "ipython3",
   "version": "3.8.20"
  }
 },
 "nbformat": 4,
 "nbformat_minor": 2
}
