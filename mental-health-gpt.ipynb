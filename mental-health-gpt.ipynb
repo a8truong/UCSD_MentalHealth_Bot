{
 "cells": [
  {
   "cell_type": "markdown",
   "metadata": {},
   "source": [
    "# RAG Application: Ask Questions from a PDF Document using Large Language Models"
   ]
  },
  {
   "cell_type": "markdown",
   "metadata": {},
   "source": [
    "Retrieval-Augmented Generation (RAG) is a generative AI framework that combines pre-trained large language models (LLMs) with external data sources. RAG improves the output of LLMs by using fresh data from authoritative knowledge bases and enterprise systems to generate more reliable responses.\n",
    "\n",
    "For example, this project is about using RAG to ask questions from a PDF document. The RAG system uses its large language model to understand the question, then it retrieves relevant information from the PDF document, and finally generates a response. This way, we can extract precise information from a document."
   ]
  },
  {
   "cell_type": "markdown",
   "metadata": {},
   "source": [
    "## 0. Setup Ollama\n",
    "\n",
    "I used [Ollama](https://ollama.com) because it's the easiest way to get up and running with large language models, locally on my computer.\n",
    "\n",
    "In this case, I used [Llama2](https://llama.meta.com/llama2) model by Meta AI as my choice.\n",
    "\n",
    "On your terminal, run:\n",
    "\n",
    "```bash\n",
    "ollama run llama2\n",
    "```"
   ]
  },
  {
   "cell_type": "markdown",
   "metadata": {},
   "source": [
    "## 1. Loading Environment Variables and Setting Up the Model"
   ]
  },
  {
   "cell_type": "code",
   "execution_count": 1,
   "metadata": {},
   "outputs": [],
   "source": [
    "import os\n",
    "from dotenv import load_dotenv\n",
    "\n",
    "# If you want to use the OpenAI API, you need to set the OPENAI_API_KEY environment variable\n",
    "load_dotenv()\n",
    "OPENAI_API_KEY = os.getenv(\"OPENAI_API_KEY\")\n",
    "MODEL = \"gpt-3.5-turbo\"\n",
    "\n",
    "# MODEL = \"llama2\""
   ]
  },
  {
   "cell_type": "markdown",
   "metadata": {},
   "source": [
    "## 2. Prepare Embeddings and Test the Model"
   ]
  },
  {
   "cell_type": "code",
   "execution_count": 2,
   "metadata": {},
   "outputs": [
    {
     "data": {
      "text/plain": [
       "AIMessage(content='Machine learning is a type of artificial intelligence that allows computers to learn and improve from experience without being explicitly programmed.', additional_kwargs={'refusal': None}, response_metadata={'token_usage': {'completion_tokens': 23, 'prompt_tokens': 16, 'total_tokens': 39, 'completion_tokens_details': {'accepted_prediction_tokens': 0, 'audio_tokens': 0, 'reasoning_tokens': 0, 'rejected_prediction_tokens': 0}, 'prompt_tokens_details': {'audio_tokens': 0, 'cached_tokens': 0}}, 'model_name': 'gpt-3.5-turbo-0125', 'system_fingerprint': None, 'finish_reason': 'stop', 'logprobs': None}, id='run-f82996e6-1e48-4e38-99c0-6d2e0b1767b6-0', usage_metadata={'input_tokens': 16, 'output_tokens': 23, 'total_tokens': 39, 'input_token_details': {'audio': 0, 'cache_read': 0}, 'output_token_details': {'audio': 0, 'reasoning': 0}})"
      ]
     },
     "execution_count": 2,
     "metadata": {},
     "output_type": "execute_result"
    }
   ],
   "source": [
    "from langchain_community.llms import Ollama\n",
    "from langchain_openai.chat_models import ChatOpenAI\n",
    "from langchain_community.embeddings import OllamaEmbeddings\n",
    "from langchain_openai.embeddings import OpenAIEmbeddings\n",
    "\n",
    "if MODEL.startswith(\"gpt\"):\n",
    "    model = ChatOpenAI(openai_api_key=OPENAI_API_KEY, model=MODEL)\n",
    "    embeddings = OpenAIEmbeddings()\n",
    "else:\n",
    "    model = Ollama(model=MODEL)\n",
    "    embeddings = OllamaEmbeddings(model=MODEL)\n",
    "\n",
    "model.invoke(\"what is machine learning in a few words?\")"
   ]
  },
  {
   "cell_type": "code",
   "execution_count": 3,
   "metadata": {},
   "outputs": [
    {
     "data": {
      "text/plain": [
       "'Machine learning is a subset of artificial intelligence that enables computers to learn and improve from experience without being explicitly programmed.'"
      ]
     },
     "execution_count": 3,
     "metadata": {},
     "output_type": "execute_result"
    }
   ],
   "source": [
    "from langchain_core.output_parsers import StrOutputParser\n",
    "\n",
    "parser = StrOutputParser()\n",
    "\n",
    "chain = model | parser \n",
    "chain.invoke(\"what is machine learning in a few words?\")"
   ]
  },
  {
   "cell_type": "markdown",
   "metadata": {},
   "source": [
    "## 3. Load the PDF Document"
   ]
  },
  {
   "cell_type": "code",
   "execution_count": 5,
   "metadata": {},
   "outputs": [
    {
     "data": {
      "text/plain": [
       "[Document(metadata={'source': 'flyer_rise.pdf', 'page': 0}, page_content='Tritons RISE Together\\nRISE for your daily dose of Well-Being! Join us for our T ritons RISE T ogether innovative and experiential \\nworkshops. Based on research from peak performance psychology, mind/body sciences and the field of positive \\npsychology, our RISE Workshops are here to promote you reaching your potential in all areas of your life: \\nemotional, physical, and social. Be inspired, learn skills, and build our T riton community! Y ou do not need to make \\nan appointment unless the workshop indicates pre-registration — simply show up! Be sure to check out our RISE \\nwebsite for additional special events being planned throughout the quarter and any calendar updates:  \\nhttps:/ /caps.ucsd.edu/rise\\nSunRISE Y oga Session (Recreation and CAPS)\\nMondays 10–11am, Week 1 (1/6) – Week 10 (3/10); Except (1/20, 2/17)\\nPresenting a CAPS & Recreation partnership yoga class! Join in our SunRISE community for a well-being and \\nmovement-based session designed to both ground and inspire you! Start your week by creating a growth \\nmindset and setting your intentions.\\n• Pre-register through Recreation to save your spot as this workshop fills up.\\n• Bring a yoga mat or towel and see you there T ritons!\\nLocation: In-person @ RIMAC in Activity Room 1\\nPerformance Lab\\nT uesdays 1–2pm, Week 1 (1/7) – Week 10 (3/11), with Erin Kelly Bartelma, Psy.D. and Specialized CAPS Speakers \\nJoin our interactive lab workshops to learn about the “science of success” and strategies to help you flourish in the \\nclassroom and in life! Each week we’ll practice new strategies: \\n• Week 1: Building Y our Foundation for Success\\n• Week 2: Goal Setting \\n• Week 3: Motivation\\n• Week 4: Procrastination T ools\\n• Week 5: Managing Performance/T est Anxiety\\n• Week 6: Confidence Boost \\n• Week 7: Creating Consistency \\n• Week 8: Well-Being & Performance \\n• Week 9: Focus & Concentration \\n• Week 10: Going into Finals Strong\\n \\nZoom link: https:/ /uchealth.zoom.us/j/84688908165\\nMindfulness Studio (Recreation and CAPS)\\nWednesdays 5–6pm, Week 1 (1/8) – Week 10 (3/12), with Haim Shemer, Psy.D. and GAPSWell Associates\\nRISE Mindfulness Studio is a drop-in workshop where you can practice ways to:\\n• Connect more deeply with yourself and others\\n• Gain/regain inner peace and joy\\n• Engage in visualizations, breathwork & compassion-based meditations\\nPre-register through Recreation and please bring a blanket or mat to class. We look forward to seeing you there!\\nLocation: In-person @ Nuevo East Exchange Building, Second Floor Y oga Room\\nT ritons RISE T ogether Workshops\\nWinter 2025: Weeks 1–10'),\n",
       " Document(metadata={'source': 'flyer_rise.pdf', 'page': 1}, page_content='Stress Better: Skills for Managing Stress (Craft Center and CAPS)\\nThursdays 2-3pm, Week 1 (1/9) – Week 10 (3/13), with Melissa Hawthorne-Campos, LCSW\\nAre you feeling stressed or anxious? In this workshop we will:\\n• Discover effective techniques for dealing with stress or mild anxiety\\n• Learn two usable strategies each week!\\nCome join us and explore the Craft Center!\\nLocation: In-person @ Craft Center, Sixth College\\nSleep Reset\\nThursdays 3-4pm, Week 1 (1/9) – Week 10 (3/13), with Kaitlyn Saulman, Psy.D. \\nSleep from A to Zzzzs! Get the best sleep YOU can — to rest, restore, and refuel. Join us to:\\n• Get the best quantity and quality of sleep \\n• Learn research based tips and techniques\\n• Discover sleep resources designed to fit your life\\nWe start where you are at today to make all the gains possible for you and your needs. Find out what a sleep reset can do \\nfor mood, focus, concentration, energy and more!\\nZoom link: https:/ /ucsd.zoom.us/j/93046419533\\nRestorative Movement\\nFridays 3-4pm, Week 1 (1/10) – Week 10 (3/14), with Sarah Bromley, LCSW\\nCome join us to learn ways of taking care of your body and your mind by applying mindfulness skills to gentle \\nmovement sequences. This drop in workshop will help you:\\n• De-stress and unwind at the end of the week\\n• Develop increased awareness of your body’s inner wisdom\\n• Cultivate greater body acceptance\\nPre-register through Recreation. Y oga mats and blankets are available. Dress comfortably. \\nLocation: In-person @ RIMAC, Activity Room 2\\n@ucsdshw\\nCAPS.UCSD.EDU\\nCAPS programs are open to all currently registered UC San Diego students, regardless of race, color, national origin, or any \\nother protected status. These meetings are not professional counseling. If you would like professional counseling or mental \\nhealth treatment, please call the CAPS Central Office at (858) 534-3755 to arrange an appointment.\\nCo-Curricular Record Well-Being Certificate\\nAs part of the T ritons Flourish initiative, the RISE Well-Being & Community Engagement CCR \\nOpportunity (RISE CCR) enables all UC San Diego students to earn credit on their Co-Curricular \\nRecord for being active participants in programming that aims to promote students’ well-being \\nand build a community of care on our campus. \\nT o learn more about CCR credit, please visit the Co-Curricular Record website.'),\n",
       " Document(metadata={'source': 'flyer_rise.pdf', 'page': 2}, page_content='Flow and Float—Paddleboard Yoga \\n@ Mission Bay\\n1/24, 12:30-4pm\\nMicroadventure Hike \\n@ Torrey Pines Extension\\n2/7, 1-3:30pm\\nThis activity emphasizes awe, mindfulness, \\nand creativity.\\nLeap of Faith \\n@ Challenge Course\\n2/21, 1-3:30pm\\nThis activity will focus on grit, goal-setting,\\nand self-compassion.\\nThis activity emphasizes flow, awe and gratitude.\\nJoin Counseling and Psychological Services\\n(CAPS) and Outback Adventures on a series of\\nrecreational activities and mental health\\ndiscussions to improve your well-being!\\nActivities are open to registered UC San Diego\\nstudents only. Please pre-register for Each\\nactivity. We encourage you to try them all!\\nRegister on the Recreation Website')]"
      ]
     },
     "execution_count": 5,
     "metadata": {},
     "output_type": "execute_result"
    }
   ],
   "source": [
    "from langchain_community.document_loaders import PyPDFLoader\n",
    "\n",
    "loader = PyPDFLoader(\"flyer_rise.pdf\")\n",
    "pages = loader.load_and_split()\n",
    "pages"
   ]
  },
  {
   "cell_type": "code",
   "execution_count": 6,
   "metadata": {},
   "outputs": [
    {
     "name": "stdout",
     "output_type": "stream",
     "text": [
      "\n",
      "Answer the question based on the context below. If you can't \n",
      "answer the question, reply \"I don't know\".\n",
      "\n",
      "Context: Here is some context\n",
      "\n",
      "Question: Here is a question\n",
      "\n"
     ]
    }
   ],
   "source": [
    "from langchain.prompts import PromptTemplate\n",
    "\n",
    "template = \"\"\"\n",
    "Answer the question based on the context below. If you can't \n",
    "answer the question, reply \"I don't know\".\n",
    "\n",
    "Context: {context}\n",
    "\n",
    "Question: {question}\n",
    "\"\"\"\n",
    "\n",
    "prompt = PromptTemplate.from_template(template)\n",
    "print(prompt.format(context=\"Here is some context\", question=\"Here is a question\"))"
   ]
  },
  {
   "cell_type": "markdown",
   "metadata": {},
   "source": [
    "## 4. Chain the Prompt, Model, and Parser"
   ]
  },
  {
   "cell_type": "code",
   "execution_count": 7,
   "metadata": {},
   "outputs": [],
   "source": [
    "chain = prompt | model | parser"
   ]
  },
  {
   "cell_type": "code",
   "execution_count": 8,
   "metadata": {},
   "outputs": [
    {
     "name": "stderr",
     "output_type": "stream",
     "text": [
      "/var/folders/b2/wt_vxyr11y5dcgy0ds5gl0yc0000gn/T/ipykernel_24367/3226659032.py:1: PydanticDeprecatedSince20: The `schema` method is deprecated; use `model_json_schema` instead. Deprecated in Pydantic V2.0 to be removed in V3.0. See Pydantic V2 Migration Guide at https://errors.pydantic.dev/2.10/migration/\n",
      "  chain.input_schema.schema()\n"
     ]
    },
    {
     "data": {
      "text/plain": [
       "{'properties': {'context': {'title': 'Context', 'type': 'string'},\n",
       "  'question': {'title': 'Question', 'type': 'string'}},\n",
       " 'required': ['context', 'question'],\n",
       " 'title': 'PromptInput',\n",
       " 'type': 'object'}"
      ]
     },
     "execution_count": 8,
     "metadata": {},
     "output_type": "execute_result"
    }
   ],
   "source": [
    "chain.input_schema.schema()"
   ]
  },
  {
   "cell_type": "code",
   "execution_count": 9,
   "metadata": {},
   "outputs": [
    {
     "data": {
      "text/plain": [
       "'Based on your specialty in machine learning, it is likely that your college background is in a related field such as computer science, mathematics, statistics, or engineering.'"
      ]
     },
     "execution_count": 9,
     "metadata": {},
     "output_type": "execute_result"
    }
   ],
   "source": [
    "chain.invoke(\n",
    "    {\n",
    "        \"context\": \"my specialty is machine learning\", \n",
    "        \"question\": \"what do you think is my college background?\"\n",
    "    }\n",
    ")"
   ]
  },
  {
   "cell_type": "markdown",
   "metadata": {},
   "source": [
    "## 5.0 Use a Vector Database to Store and Retrieve the Results"
   ]
  },
  {
   "cell_type": "code",
   "execution_count": 10,
   "metadata": {},
   "outputs": [
    {
     "name": "stderr",
     "output_type": "stream",
     "text": [
      "/Users/jyl/Desktop/Deloitte Capstone/ask-pdf/ask-pdf-env/lib/python3.12/site-packages/pydantic/_migration.py:283: UserWarning: `pydantic.error_wrappers:ValidationError` has been moved to `pydantic:ValidationError`.\n",
      "  warnings.warn(f'`{import_path}` has been moved to `{new_location}`.')\n"
     ]
    }
   ],
   "source": [
    "from langchain_community.vectorstores import DocArrayInMemorySearch\n",
    "\n",
    "vectorstore = DocArrayInMemorySearch.from_documents(pages, embedding=embeddings)"
   ]
  },
  {
   "cell_type": "code",
   "execution_count": 11,
   "metadata": {},
   "outputs": [],
   "source": [
    "retriever = vectorstore.as_retriever()"
   ]
  },
  {
   "cell_type": "code",
   "execution_count": 12,
   "metadata": {},
   "outputs": [],
   "source": [
    "from operator import itemgetter\n",
    "\n",
    "chain = (\n",
    "    {\n",
    "        \"context\": itemgetter(\"question\") | retriever,\n",
    "        \"question\": itemgetter(\"question\"),\n",
    "    }\n",
    "    | prompt\n",
    "    | model\n",
    "    | parser\n",
    ")"
   ]
  },
  {
   "cell_type": "code",
   "execution_count": 16,
   "metadata": {},
   "outputs": [
    {
     "name": "stdout",
     "output_type": "stream",
     "text": [
      "Question: What is Performance Lab?\n",
      "Answer: Performance Lab is an interactive workshop on Tuesdays from 1-2pm, focusing on the \"science of success\" and strategies to help individuals flourish in the classroom and in life.\n",
      "\n",
      "Question: What is Performance Lab's zoom link?\n",
      "Answer: https://uchealth.zoom.us/j/84688908165\n",
      "\n"
     ]
    }
   ],
   "source": [
    "questions = [\n",
    "    \"What is Performance Lab?\",\n",
    "    \"What is Performance Lab's zoom link?\"\n",
    "]\n",
    "\n",
    "for question in questions:\n",
    "    print(f\"Question: {question}\")\n",
    "    print(f\"Answer: {chain.invoke({'question': question})}\")\n",
    "    print()"
   ]
  },
  {
   "cell_type": "markdown",
   "metadata": {},
   "source": [
    "## 5.1 Streaming Questions to the Language Model\n",
    "Basically, what stream does is make the response appear like the style of a chatbot because of a typewriter effect."
   ]
  },
  {
   "cell_type": "code",
   "execution_count": 17,
   "metadata": {},
   "outputs": [
    {
     "name": "stdout",
     "output_type": "stream",
     "text": [
      "You should consider attending the \"Stress Better: Skills for Managing Stress\" workshop with Melissa Hawthorne-Campos, LCSW on Thursdays from 2-3pm."
     ]
    }
   ],
   "source": [
    "for s in chain.stream({\"question\": \"I felt stressed. Which workshop should I go to?\"}):\n",
    "    print(s, end=\"\", flush=True)"
   ]
  },
  {
   "cell_type": "markdown",
   "metadata": {},
   "source": [
    "## 5.2 Batching Questions to the Language Model"
   ]
  },
  {
   "cell_type": "markdown",
   "metadata": {},
   "source": [
    "Basically, what batch does is that it allows you to send a batch of questions to the model. This is useful when you have a lot of questions to ask and you don't want to wait for the model to process each question one by one. This is done in parallel."
   ]
  },
  {
   "cell_type": "code",
   "execution_count": 18,
   "metadata": {},
   "outputs": [],
   "source": [
    "questions = [\n",
    "    \"I don't sleep well recently. What should I do?\",\n",
    "    #\"another question here\"\n",
    "]"
   ]
  },
  {
   "cell_type": "code",
   "execution_count": 19,
   "metadata": {},
   "outputs": [
    {
     "data": {
      "text/plain": [
       "['You can attend the \"Sleep Reset\" workshop on Thursdays from 3-4pm with Kaitlyn Saulman, Psy.D. to learn research-based tips and techniques for getting the best quantity and quality of sleep.']"
      ]
     },
     "execution_count": 19,
     "metadata": {},
     "output_type": "execute_result"
    }
   ],
   "source": [
    "\n",
    "chain.batch([{\"question\": q} for q in questions])"
   ]
  },
  {
   "cell_type": "code",
   "execution_count": null,
   "metadata": {},
   "outputs": [],
   "source": []
  }
 ],
 "metadata": {
  "kernelspec": {
   "display_name": "ask-pdf-env",
   "language": "python",
   "name": "ask-pdf-env"
  },
  "language_info": {
   "codemirror_mode": {
    "name": "ipython",
    "version": 3
   },
   "file_extension": ".py",
   "mimetype": "text/x-python",
   "name": "python",
   "nbconvert_exporter": "python",
   "pygments_lexer": "ipython3",
   "version": "3.12.6"
  }
 },
 "nbformat": 4,
 "nbformat_minor": 2
}
